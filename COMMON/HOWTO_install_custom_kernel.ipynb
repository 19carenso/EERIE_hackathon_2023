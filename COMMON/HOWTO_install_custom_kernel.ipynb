{
 "cells": [
  {
   "cell_type": "markdown",
   "id": "412cce20-e0cc-45da-b726-6e9d32bd4e7e",
   "metadata": {
    "tags": []
   },
   "source": [
    "### Manuals for the JASMIN users, who want/need to work on DKRZ levante system. \n",
    "\n",
    "If you require a python package that is not part of the default kernel on levante, you can activate the kernel jaspy, which was transferred to DKRZ levante from JASMIN for your use.  Alternatively, if you need smth special, you can install separate python packages with pip install. \n",
    "\n"
   ]
  },
  {
   "cell_type": "markdown",
   "id": "94c1096f-6e00-4fc7-af9d-35afb1f7a9dd",
   "metadata": {},
   "source": [
    "#### In the terminal:\n"
   ]
  },
  {
   "cell_type": "markdown",
   "id": "0fb993d9-ba69-444d-820e-a9b86af92c12",
   "metadata": {},
   "source": [
    "#### 1.\tLogin to levante from the terminal as follows. Make sure to change your-id in the command line below: "
   ]
  },
  {
   "cell_type": "code",
   "execution_count": 1,
   "id": "35c6cf2d-4c66-45b0-b90e-1c999bac99eb",
   "metadata": {},
   "outputs": [],
   "source": [
    "#ssh -X <your-id>@levante.dkrz.de"
   ]
  },
  {
   "cell_type": "markdown",
   "id": "296d3811-7a6a-4012-928b-33de1446ecf2",
   "metadata": {},
   "source": [
    "#### 2.\tGo to the work directory, where you will code during the hackathon. Make sure to change your-directory in the command line below: \n"
   ]
  },
  {
   "cell_type": "code",
   "execution_count": 2,
   "id": "1a4ef24c-b063-460b-89e3-25af007a7879",
   "metadata": {
    "tags": []
   },
   "outputs": [],
   "source": [
    "#cd /work/<your-directory>"
   ]
  },
  {
   "cell_type": "markdown",
   "id": "8423097f-f932-42bb-b042-df13ccd6fea0",
   "metadata": {},
   "source": [
    "#### 3. jaspy has been installed already for your use. You can check this by listing the directory:"
   ]
  },
  {
   "cell_type": "code",
   "execution_count": 3,
   "id": "709a159f-c027-4e67-8af5-6148f6e02796",
   "metadata": {
    "tags": []
   },
   "outputs": [
    {
     "name": "stdout",
     "output_type": "stream",
     "text": [
      "bin\t\t images   phrasebooks  ssl\n",
      "cmake\t\t include  plugins      translations\n",
      "compiler_compat  lib\t  qml\t       var\n",
      "conda-meta\t libexec  qsci\t       x86_64-conda_cos6-linux-gnu\n",
      "doc\t\t man\t  resources    x86_64-conda-linux-gnu\n",
      "etc\t\t mkspecs  sbin\n",
      "fonts\t\t mod\t  share\n"
     ]
    }
   ],
   "source": [
    "!ls  /work/bk1377/conda-envs/jaspy"
   ]
  },
  {
   "cell_type": "markdown",
   "id": "b012d4ae-b8bf-4cc7-b645-3f61b327b870",
   "metadata": {
    "tags": []
   },
   "source": [
    "#### 4. Now you need to activate it. First, load python module as follows:"
   ]
  },
  {
   "cell_type": "code",
   "execution_count": 4,
   "id": "7da9cc47-4352-449c-9196-5fdeb7bde0c0",
   "metadata": {
    "tags": []
   },
   "outputs": [],
   "source": [
    "#module load python3"
   ]
  },
  {
   "cell_type": "markdown",
   "id": "9eed6cf9-41af-46af-89fb-46ba51de2c83",
   "metadata": {},
   "source": [
    "#### 5.\tActivate conda environment as follows: \n"
   ]
  },
  {
   "cell_type": "code",
   "execution_count": 5,
   "id": "4ef7e631-ca63-4a0c-8d09-11703887a9e9",
   "metadata": {
    "tags": []
   },
   "outputs": [],
   "source": [
    "#source activate /work/bk1377/conda-envs/jaspy"
   ]
  },
  {
   "cell_type": "markdown",
   "id": "d50957a3-b802-492b-94b7-5babd414d267",
   "metadata": {},
   "source": [
    "#### 6.\tConfigure the kernel as follows:\n",
    "\n"
   ]
  },
  {
   "cell_type": "code",
   "execution_count": 6,
   "id": "51e16e98-4e2d-40da-8a50-e6dcee6bcf9e",
   "metadata": {
    "tags": []
   },
   "outputs": [],
   "source": [
    "#python -m ipykernel install --user --name jaspykernel"
   ]
  },
  {
   "cell_type": "markdown",
   "id": "114b56bc-f477-49b5-90f1-3aa2a846ffdc",
   "metadata": {},
   "source": [
    "It takes couple of minutes to set-up..."
   ]
  },
  {
   "cell_type": "markdown",
   "id": "10e10397-d19d-4307-8b47-14a385356377",
   "metadata": {},
   "source": [
    "#### 7. The kernel is set-up. Now, you can choose it from your jupyter notebook in the top right from the list of available kernels under the name you gave it. In our case here, it is jaspykernel."
   ]
  },
  {
   "cell_type": "code",
   "execution_count": null,
   "id": "722ca15b-2e67-4619-91bb-83ff99b6cece",
   "metadata": {},
   "outputs": [],
   "source": []
  },
  {
   "cell_type": "markdown",
   "id": "ab0db9b0-1a2b-440e-b7b3-65a08ec94157",
   "metadata": {},
   "source": [
    "#### 8. If you do not need to use jaspykernel, you can deactivate it with:"
   ]
  },
  {
   "cell_type": "code",
   "execution_count": 7,
   "id": "92eb5f50-38aa-45ec-9af9-ca7f70eb7c03",
   "metadata": {
    "tags": []
   },
   "outputs": [],
   "source": [
    "#conda deactivate /work/bk1377/conda-envs/jaspy"
   ]
  },
  {
   "cell_type": "markdown",
   "id": "aee8afab-f5e7-4f03-a5de-15403f873948",
   "metadata": {},
   "source": [
    "#### Alternatively, in jupyter notebook:\n",
    "\n",
    "If you require a specific python package that is not provided with any of the default kernels, you can istall it manually from the jupyter notebook with:"
   ]
  },
  {
   "cell_type": "code",
   "execution_count": 8,
   "id": "ac3fdf7b-d596-496f-91f4-652b40b61949",
   "metadata": {
    "tags": []
   },
   "outputs": [],
   "source": [
    "#pip install <package>"
   ]
  },
  {
   "cell_type": "code",
   "execution_count": null,
   "id": "a955216a-ddea-4ec3-98d5-78408c722929",
   "metadata": {},
   "outputs": [],
   "source": []
  }
 ],
 "metadata": {
  "kernelspec": {
   "display_name": "Python 3 (based on the module python3/2023.01)",
   "language": "python",
   "name": "python3_2023_01"
  },
  "language_info": {
   "codemirror_mode": {
    "name": "ipython",
    "version": 3
   },
   "file_extension": ".py",
   "mimetype": "text/x-python",
   "name": "python",
   "nbconvert_exporter": "python",
   "pygments_lexer": "ipython3",
   "version": "3.10.10"
  }
 },
 "nbformat": 4,
 "nbformat_minor": 5
}
