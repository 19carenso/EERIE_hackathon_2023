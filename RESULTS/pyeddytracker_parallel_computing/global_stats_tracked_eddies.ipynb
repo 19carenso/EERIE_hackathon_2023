{
 "cells": [
  {
   "cell_type": "markdown",
   "id": "7f117c1f-b9d7-406b-bda1-dfb7466843b7",
   "metadata": {},
   "source": [
    "## Global statistics of tracked eddies "
   ]
  },
  {
   "cell_type": "code",
   "execution_count": null,
   "id": "c7b6c0b1-b18f-41b1-9dac-2eddc6ce43d8",
   "metadata": {
    "tags": []
   },
   "outputs": [],
   "source": [
    "import os \n",
    "import shutil\n",
    "import numpy as np\n",
    "import cartopy \n",
    "import cartopy.crs as ccrs\n",
    "import cartopy.feature as cfeature\n",
    "from datetime import datetime, timedelta\n",
    "import xarray as xr\n",
    "import matplotlib.pyplot as plt\n",
    "from cartopy.mpl.ticker import (LongitudeFormatter, LatitudeFormatter,LatitudeLocator)\n",
    "import scipy\n",
    "import matplotlib as mpl\n"
   ]
  },
  {
   "cell_type": "markdown",
   "id": "aa5e0652-82d1-4b5f-8d0c-34f1e29f73ea",
   "metadata": {},
   "source": [
    "### define directories where track data is stored"
   ]
  },
  {
   "cell_type": "code",
   "execution_count": null,
   "id": "651acc5d-49b3-45dc-8739-4e6e16ec09d5",
   "metadata": {
    "tags": []
   },
   "outputs": [],
   "source": [
    "# track directory for wavelength = 700 km and shape error = 70%\n",
    "trackdir_wv700_se70='/path/to/track/data/erc1011_eddytrack/wv_'+str(700)+'_se_'+str(70)+'/tracks/'\n",
    "# track directory for wavelength = 700 km and shape error = 30%\n",
    "trackdir_wv700_se30='/path/to/track/data/erc1011_eddytrack/wv_'+str(700)+'_se_'+str(30)+'/tracks/'\n",
    "# track directory for wavelength = 200 km and shape error = 70%\n",
    "trackdir_wv200_se70='/path/to/track/data/erc1011_eddytrack/wv_'+str(200)+'_se_'+str(70)+'/tracks/'\n",
    "# track directory for wavelength = 200 km and shape error = 30%\n",
    "trackdir_wv200_se30='/path/to/track/data/erc1011_eddytrack/wv_'+str(200)+'_se_'+str(30)+'/tracks/'\n",
    "\n",
    "\n",
    "#open datasets for cyclonic and anticyclonic tracks \n",
    "dstracks_wv700_se70_c = xr.open_dataset(trackdir_wv700_se70+'cyclonic'+'_tracks.nc')\n",
    "dstracks_wv700_se70_ac = xr.open_dataset(trackdir_wv700_se70+'anticyclonic'+'_tracks.nc')\n",
    "dstracks_wv700_se30_c = xr.open_dataset(trackdir_wv700_se30+'cyclonic'+'_tracks.nc')\n",
    "dstracks_wv700_se30_ac = xr.open_dataset(trackdir_wv700_se30+'anticyclonic'+'_tracks.nc')\n",
    "dstracks_wv200_se70_c = xr.open_dataset(trackdir_wv200_se70+'cyclonic'+'_tracks.nc')\n",
    "dstracks_wv200_se70_ac = xr.open_dataset(trackdir_wv200_se70+'anticyclonic'+'_tracks.nc')\n",
    "dstracks_wv200_se30_c = xr.open_dataset(trackdir_wv200_se30+'cyclonic'+'_tracks.nc')\n",
    "dstracks_wv200_se30_ac = xr.open_dataset(trackdir_wv200_se30+'anticyclonic'+'_tracks.nc')"
   ]
  },
  {
   "cell_type": "code",
   "execution_count": null,
   "id": "64e83f9b-a189-4180-9c37-c14cd5255a80",
   "metadata": {
    "tags": []
   },
   "outputs": [],
   "source": [
    "# look at the data\n",
    "display(dstracks_wv700_se70_ac)"
   ]
  },
  {
   "cell_type": "markdown",
   "id": "94d27165-c25c-4568-8729-3a676d4b846f",
   "metadata": {},
   "source": [
    "### plot eddy tracks from one of the data sets"
   ]
  },
  {
   "cell_type": "code",
   "execution_count": null,
   "id": "61858ff8-50de-4e64-b3c4-32d08bfada72",
   "metadata": {
    "tags": []
   },
   "outputs": [],
   "source": [
    "%matplotlib inline\n",
    "lonshift = 0\n",
    "proj=ccrs.PlateCarree(central_longitude = lonshift)\n",
    "fig, ax = plt.subplots(1, 1, figsize=(80, 30), subplot_kw={'projection': proj})\n",
    "ax.set_title('Anticyclonic ocean-eddy tracks', loc='center', fontsize=50)\n",
    "ax.set_title('2002-01-01 to 2008-12-31', loc='left', fontsize=50)\n",
    "ax.set_title('(wavelength,shape_error)'+str(int(wavelength))+' '+str(int(shape_error)), loc='right', fontsize=50)\n",
    "gl = ax.gridlines(draw_labels=True, y_inline=True) # need cartopy version 0.18!!!\n",
    "gl.top_labels = False\n",
    "gl.xformatter = LongitudeFormatter()\n",
    "gl.yformatter = LatitudeFormatter()\n",
    "\n",
    "land = cfeature.NaturalEarthFeature(\n",
    "        category='physical',\n",
    "        name='land',\n",
    "        scale='10m',\n",
    "        facecolor='grey')\n",
    "ax.add_feature(land)\n",
    "\n",
    "ax.scatter(dstracks_wv700_se70_ac.longitude.values, dstracks_wv700_se70_ac.latitude.values, marker='o', alpha=0.01, color='red')"
   ]
  },
  {
   "cell_type": "markdown",
   "id": "faff644c-b0a8-4885-b642-3e14c9476de2",
   "metadata": {},
   "source": [
    "### Define function to average eddy radius and speed along track and then bin according to latitude"
   ]
  },
  {
   "cell_type": "code",
   "execution_count": null,
   "id": "ebb0e72d-07e6-4e5f-aa6e-3bc366344267",
   "metadata": {
    "tags": []
   },
   "outputs": [],
   "source": [
    "def eddy_lonav(dstracks):\n",
    "    uniq_vals, uniq_idx = np.unique(dstracks.track.values, return_index=True)\n",
    "    #print(uniq_idx)\n",
    "    eddy_idx = np.split(dstracks.track.values,uniq_idx)\n",
    "    eddy_uavg = np.split(dstracks.uavg_profile.values,uniq_idx)\n",
    "    eddy_radius = np.split(dstracks.effective_radius.values, uniq_idx)\n",
    "    eddy_latitude = np.split(dstracks.latitude.values, uniq_idx)\n",
    "\n",
    "    eddy_idx_av = np.empty(len(eddy_idx))\n",
    "    eddy_uavg_av = np.empty(len(eddy_idx))\n",
    "    eddy_radius_av = np.empty(len(eddy_idx))\n",
    "    eddy_latitude_av = np.empty(len(eddy_idx))\n",
    "    for i in range(len(eddy_idx)):\n",
    "        eddy_idx_av[i] = np.mean(eddy_idx[i])\n",
    "        eddy_uavg_av[i] = np.mean(eddy_uavg[i])\n",
    "        eddy_radius_av[i] = np.mean(eddy_radius[i])\n",
    "        eddy_latitude_av[i] = np.mean(eddy_latitude[i])\n",
    "    #remove nan from first value\n",
    "    eddy_idx_av = eddy_idx_av[1:]\n",
    "    eddy_uavg_av = eddy_uavg_av[1:]\n",
    "    eddy_radius_av = eddy_radius_av[1:]\n",
    "    eddy_latitude_av = eddy_latitude_av[1:]\n",
    "\n",
    "    latbins = np.arange(-90,100,10)\n",
    "    ibin = np.digitize(eddy_latitude_av, latbins,right=False)\n",
    "    #latbins[ibin[0]],eddy_latitude_av[0]\n",
    "    midlatbins = np.arange(-85,95,10)\n",
    "\n",
    "\n",
    "    eddy_uavg_lonav = np.empty(18)\n",
    "    eddy_radius_lonav = np.empty(18)\n",
    "    for x in range(len(latbins)-1):\n",
    "        #print(x+1)\n",
    "        eddy_uavg_lonav[x-1] = np.mean(eddy_uavg_av[(ibin == int(x))])\n",
    "        eddy_radius_lonav[x-1] = np.mean(eddy_radius_av[(ibin == int(x))])\n",
    "    return eddy_uavg_lonav, eddy_radius_lonav"
   ]
  },
  {
   "cell_type": "markdown",
   "id": "a45e1222-6bd1-4074-bf14-5e101ecca2b3",
   "metadata": {},
   "source": [
    "### plot zonally averaged eddy radius and eddy speed computed with 4 different parameter combinations"
   ]
  },
  {
   "cell_type": "code",
   "execution_count": null,
   "id": "51251a66-8838-4f7e-9746-7094cd68e512",
   "metadata": {
    "tags": []
   },
   "outputs": [],
   "source": [
    "eddy_uavg_lonav, eddy_radius_lonav = eddy_lonav(dstracks_ac)\n",
    "fig, ax = plt.subplots(2, 2, figsize=(15, 8))\n",
    "ax=np.ndarray.flatten(ax)\n",
    "paramstr=['wv700_se70','wv700_se30','wv200_se70','wv200_se30']\n",
    "colors = ['blue','red','blue','red']\n",
    "linestyles = ['-','-','--','--']\n",
    "fig.suptitle('Global eddy statistics from 2002-01-01 to 2008-12-31 averaged over track and zonally binned')\n",
    "for i in range(4):\n",
    "    exec(\"eddy_uavg_lonav_ac, eddy_radius_lonav_ac = eddy_lonav(dstracks_%s_ac)\" % (paramstr[i]))\n",
    "    exec(\"eddy_uavg_lonav_c, eddy_radius_lonav_c = eddy_lonav(dstracks_%s_c)\" % (paramstr[i]))\n",
    "    ax[0].plot(midlatbins,eddy_uavg_lonav_ac, color=colors[i], label=paramstr[i], ls=linestyles[i])\n",
    "    ax[1].plot(midlatbins,eddy_uavg_lonav_c, color=colors[i], label=paramstr[i], ls=linestyles[i])\n",
    "    ax[0].set_xlabel('latitude')\n",
    "    ax[0].set_ylabel('average ac eddy speed (m/s)')\n",
    "    ax[1].set_xlabel('latitude')\n",
    "    ax[1].set_ylabel('average c eddy speed (m/s)')\n",
    "    ax[2].plot(midlatbins,eddy_radius_lonav_ac/1000., color=colors[i], label=paramstr[i], ls=linestyles[i])\n",
    "    ax[3].plot(midlatbins,eddy_radius_lonav_c/1000., color=colors[i], label=paramstr[i], ls=linestyles[i])\n",
    "    ax[2].set_xlabel('latitude')\n",
    "    ax[2].set_ylabel('average ac eddy radius (km)')\n",
    "    ax[3].set_xlabel('latitude')\n",
    "    ax[3].set_ylabel('average c eddy radius (km)')\n",
    "    ax[0].legend()\n",
    "    ax[1].legend()\n",
    "    ax[2].legend()\n",
    "    ax[3].legend()\n",
    "fig.savefig('/path_to_plot/global_eddy_stats.png')"
   ]
  }
 ],
 "metadata": {
  "kernelspec": {
   "display_name": "Python 3 (based on the module python3/2023.01)",
   "language": "python",
   "name": "python3_2023_01"
  },
  "language_info": {
   "codemirror_mode": {
    "name": "ipython",
    "version": 3
   },
   "file_extension": ".py",
   "mimetype": "text/x-python",
   "name": "python",
   "nbconvert_exporter": "python",
   "pygments_lexer": "ipython3",
   "version": "3.10.10"
  }
 },
 "nbformat": 4,
 "nbformat_minor": 5
}
