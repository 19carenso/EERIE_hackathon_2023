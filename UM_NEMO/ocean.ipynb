{
 "cells": [
  {
   "cell_type": "markdown",
   "id": "d694c414-676a-43b6-94e4-dc5d01b79755",
   "metadata": {},
   "source": [
    "## Example of how to discover the available Met Office NEMO and SI3 ocean and ice data"
   ]
  },
  {
   "cell_type": "markdown",
   "id": "a9e6fe58-936e-4b01-af97-e96421fc8ff3",
   "metadata": {},
   "source": [
    "Currently only the UM atmosphere data has been CMORised and added to the intake catalogue. This Notebook shows a method of scanning through the data files to identify the available ocean variables."
   ]
  },
  {
   "cell_type": "markdown",
   "id": "4d9d24bb-f748-4d7d-8294-03eaa24b1047",
   "metadata": {},
   "source": [
    "Find all ocean variables available:"
   ]
  },
  {
   "cell_type": "code",
   "execution_count": 1,
   "id": "0b82c2ed-6f1c-4a47-ae44-5438d6fd745e",
   "metadata": {},
   "outputs": [
    {
     "name": "stdout",
     "output_type": "stream",
     "text": [
      "mlotst10_nemo_u-cx993_1d_grid-025.nc\n",
      "mlotst10_nemo_u-cx993_1m_grid-025.nc\n",
      "mlotst10_nemo_u-cy021_1d_grid-025.nc\n",
      "mlotst10_nemo_u-cy021_1m_grid-025.nc\n",
      "sosabs_nemo_u-cx993_1d_grid-025.nc\n",
      "sosabs_nemo_u-cx993_1m_grid-025.nc\n",
      "sosabs_nemo_u-cy021_1d_grid-025.nc\n",
      "sosabs_nemo_u-cy021_1m_grid-025.nc\n",
      "toscon_nemo_u-cx993_1d_grid-025.nc\n",
      "toscon_nemo_u-cx993_1m_grid-025.nc\n",
      "toscon_nemo_u-cy021_1d_grid-025.nc\n",
      "toscon_nemo_u-cy021_1m_grid-025.nc\n",
      "zos_nemo_u-cx993_1d_grid-025.nc\n",
      "zos_nemo_u-cx993_1m_grid-025.nc\n",
      "zos_nemo_u-cy021_1d_grid-025.nc\n",
      "zos_nemo_u-cy021_1m_grid-025.nc\n"
     ]
    }
   ],
   "source": [
    "! find /gws/nopw/j04/eerie/public/data | grep '\\.nc$' | grep 'nemo' | awk -F/ '{print $NF}' | awk 'BEGIN{FS=\"_\"; OFS=\"_\"} {print $1, $2, $3, $4, $6}' | sort -u"
   ]
  },
  {
   "cell_type": "markdown",
   "id": "c73ac2d9-5277-447c-92fc-0ae3f058604d",
   "metadata": {},
   "source": [
    "Find all seaice variables available:"
   ]
  },
  {
   "cell_type": "code",
   "execution_count": 2,
   "id": "a7c0641c-6099-440e-9b71-71d34261cf61",
   "metadata": {},
   "outputs": [
    {
     "name": "stdout",
     "output_type": "stream",
     "text": [
      "siconc_si3_u-cx993_1d_grid-025.nc\n",
      "siconc_si3_u-cy021_1d_grid-025.nc\n",
      "sithick_si3_u-cx993_1d_grid-025.nc\n",
      "sithick_si3_u-cy021_1d_grid-025.nc\n",
      "siu_si3_u-cx993_1d_grid-025.nc\n",
      "siu_si3_u-cy021_1d_grid-025.nc\n",
      "siv_si3_u-cx993_1d_grid-025.nc\n",
      "siv_si3_u-cy021_1d_grid-025.nc\n"
     ]
    }
   ],
   "source": [
    "! find /gws/nopw/j04/eerie/public/data | grep '\\.nc$' | grep 'si3' | awk -F/ '{print $NF}' | awk 'BEGIN{FS=\"_\"; OFS=\"_\"} {print $1, $2, $3, $4, $6}' | sort -u"
   ]
  },
  {
   "cell_type": "markdown",
   "id": "02a851e8-82b0-4fff-8fc2-0e2820120199",
   "metadata": {},
   "source": [
    "These techniques can be used to load data into Iris (and similarly Xarray):"
   ]
  },
  {
   "cell_type": "code",
   "execution_count": 3,
   "id": "a190c944-e3b1-4ac8-966e-35edf38abc14",
   "metadata": {},
   "outputs": [],
   "source": [
    "import subprocess\n",
    "import warnings\n",
    "\n",
    "import iris"
   ]
  },
  {
   "cell_type": "code",
   "execution_count": 4,
   "id": "7dc7afe0-8388-4b9a-8e84-d56076cfd611",
   "metadata": {},
   "outputs": [],
   "source": [
    "def load_callback_nemo(cube, field, filename):\n",
    "    \"\"\"\n",
    "    An Iris load callback function to delete a few metadata items that will\n",
    "    prevent the files from being merged into a single cube.\n",
    "    \"\"\"\n",
    "    attributes_to_remove = [\n",
    "        \"history\",\n",
    "        \"name\",\n",
    "        \"timeStamp\",\n",
    "        \"uuid\"\n",
    "    ]\n",
    "    for attr_name in attributes_to_remove:\n",
    "        del(cube.attributes[attr_name])"
   ]
  },
  {
   "cell_type": "code",
   "execution_count": 5,
   "id": "0f98bcfe-73b0-472e-af7f-92e3b0a1bf36",
   "metadata": {},
   "outputs": [],
   "source": [
    "cmd_out = subprocess.run(\n",
    "    \"find /gws/nopw/j04/eerie/public/data | grep '\\.nc$' | grep 'toscon_nemo_u-cx993_1d'\", \n",
    "    shell=True, \n",
    "    capture_output=True\n",
    ")"
   ]
  },
  {
   "cell_type": "code",
   "execution_count": 6,
   "id": "2b18076f-0490-41ed-8f9e-970b7fd2226d",
   "metadata": {},
   "outputs": [],
   "source": [
    "file_paths = [str(file_path) for file_path in cmd_out.stdout.decode(\"utf-8\").split()]"
   ]
  },
  {
   "cell_type": "code",
   "execution_count": 7,
   "id": "91043b97-4879-41dd-814c-711691259575",
   "metadata": {},
   "outputs": [
    {
     "name": "stdout",
     "output_type": "stream",
     "text": [
      "sea surface conservative temperature / (degC) (time: 90; latitude: 721; longitude: 1440)\n"
     ]
    }
   ],
   "source": [
    "with warnings.catch_warnings():\n",
    "    warnings.simplefilter(\"ignore\")\n",
    "    # Just load the first three files to save time, normally the [:3] can be omitted\n",
    "    cubes = iris.load(file_paths[:3], callback=load_callback_nemo)\n",
    "toscon = cubes.concatenate_cube()\n",
    "print(toscon.summary(shorten=True))"
   ]
  },
  {
   "cell_type": "code",
   "execution_count": null,
   "id": "68ac39e0-fc24-44af-8c29-239881fb0b93",
   "metadata": {},
   "outputs": [],
   "source": []
  }
 ],
 "metadata": {
  "kernelspec": {
   "display_name": "Python 3 + Jaspy",
   "language": "python",
   "name": "jaspy"
  },
  "language_info": {
   "codemirror_mode": {
    "name": "ipython",
    "version": 3
   },
   "file_extension": ".py",
   "mimetype": "text/x-python",
   "name": "python",
   "nbconvert_exporter": "python",
   "pygments_lexer": "ipython3",
   "version": "3.10.5"
  }
 },
 "nbformat": 4,
 "nbformat_minor": 5
}
