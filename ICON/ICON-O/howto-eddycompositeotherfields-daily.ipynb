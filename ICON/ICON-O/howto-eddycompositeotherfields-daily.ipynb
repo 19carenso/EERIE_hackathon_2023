{
 "cells": [
  {
   "cell_type": "markdown",
   "id": "7f117c1f-b9d7-406b-bda1-dfb7466843b7",
   "metadata": {},
   "source": [
    "## Example for compositing other fields over/beneath tracked eddies (daily data)"
   ]
  },
  {
   "cell_type": "markdown",
   "id": "60837cea-2ea1-4256-9bdf-cd5b07faefbf",
   "metadata": {},
   "source": [
    "#### High pass filter other fields (already on 0.25deg)"
   ]
  },
  {
   "cell_type": "code",
   "execution_count": 1,
   "id": "bebdf03b-7be6-429a-b76b-c58c32f7b982",
   "metadata": {},
   "outputs": [],
   "source": [
    "from py_eddy_tracker.dataset.grid import RegularGridDataset\n",
    "from datetime import datetime, timedelta\n",
    "import numpy as np\n"
   ]
  },
  {
   "cell_type": "code",
   "execution_count": 3,
   "id": "1cd0c7c0-d380-4df5-be08-6bd55f2f3ada",
   "metadata": {},
   "outputs": [
    {
     "name": "stdout",
     "output_type": "stream",
     "text": [
      "High pass filter daily to for year=2002\n"
     ]
    }
   ],
   "source": [
    "varname='to'\n",
    "yyyy=2002 #up to 2008\n",
    "\n",
    "print('High pass filter daily '+varname+' for year='+str(yyyy))\n",
    "\n",
    "expid='erc1011'\n",
    "fq='dm'\n",
    "wavelength=700\n",
    "daterng=str(yyyy)+'0101-'+str(yyyy)+'1231'\n",
    "datearr=np.arange(datetime(yyyy,1,1), datetime(yyyy+1,1,1), timedelta(days=1)).astype(datetime)\n",
    "\n",
    "datadir='reg25/'+expid+'/'+varname+'/'\n",
    "outdir='reg25/'+expid+'/eddytrack/'+varname+'/sm'+str(int(wavelength))+'km/'\n",
    "#Must create dirs first. \n",
    "\n",
    "if varname=='to' or varname=='so' or varname=='rho':\n",
    "    zidx=1\n",
    "    varfile=datadir+expid+'_'+varname+'_'+str(zidx)+'_'+fq+'_'+daterng+'_IFS25.nc'\n",
    "else:\n",
    "    varfile=datadir+expid+'_'+varname+'_'+fq+'_'+daterng+'_IFS25.nc'\n"
   ]
  },
  {
   "cell_type": "code",
   "execution_count": 4,
   "id": "54012c0d-f097-423f-bd6d-7aa3f964462c",
   "metadata": {
    "tags": []
   },
   "outputs": [],
   "source": [
    "def besselhighpass(varfile, varname, datearr, tt):\n",
    "    wavelength=700  #choice of spatial cutoff for high pass filter in km\n",
    "    step_ht=0.005 #intervals to search for closed contours (5mm in this case)\n",
    "    g = RegularGridDataset(varfile, \"lon\", \"lat\", centered=True, indexs = dict(time=tt))\n",
    "    g.dimensions['time']=1  #extracts only one time step that was specified by indexs = dict(time=tt)\n",
    "    if varname=='rho':\n",
    "        g.bessel_high_filter('rhopoto', wavelength, order=1)\n",
    "    else:\n",
    "        g.bessel_high_filter(varname, wavelength, order=1) #perfroms only on 1 time index\n",
    "    date = datearr[tt] # detect each timestep individually because of memory issues\n",
    "    if varname=='to' or varname=='so' or varname=='rho':\n",
    "        zidx=1\n",
    "        g.write(outdir+expid+'_'+varname+'_'+str(zidx)+'_'+fq+'_'+date.strftime('%Y%m%d')+'_IFS25_hp'+str(wavelength)+'.nc')\n",
    "    else:\n",
    "        g.write(outdir+expid+'_'+varname+'_'+fq+'_'+date.strftime('%Y%m%d')+'_IFS25_hp'+str(int(wavelength))+'.nc')\n"
   ]
  },
  {
   "cell_type": "code",
   "execution_count": null,
   "id": "46de1869-33d8-427d-b8e6-fa04f09cb740",
   "metadata": {},
   "outputs": [],
   "source": [
    "for tt in range(0,len(datearr)):\n",
    "    date = datearr[tt]\n",
    "    print('High pass filter of '+varname+' for '+date.strftime('%Y%m%d'))\n",
    "    besselhighpass(varfile, varname, datearr, tt)\n"
   ]
  },
  {
   "cell_type": "markdown",
   "id": "24e18d79-ef67-4c4b-98f3-82ce351e9d5c",
   "metadata": {},
   "source": [
    "#### Extract and build eddy composites of the other fields \n",
    "Along the identified tracks, gather 2.5x2.5deg around eddy center and save. "
   ]
  },
  {
   "cell_type": "code",
   "execution_count": 5,
   "id": "c7b6c0b1-b18f-41b1-9dac-2eddc6ce43d8",
   "metadata": {
    "tags": []
   },
   "outputs": [],
   "source": [
    "import os \n",
    "import shutil\n",
    "import numpy as np\n",
    "from datetime import datetime, timedelta\n",
    "import xarray as xr\n"
   ]
  },
  {
   "cell_type": "code",
   "execution_count": 7,
   "id": "651acc5d-49b3-45dc-8739-4e6e16ec09d5",
   "metadata": {
    "tags": []
   },
   "outputs": [],
   "source": [
    "varname='to'\n",
    "\n",
    "expid='erc1011'\n",
    "fq='dm'\n",
    "eddydir='reg25/'+expid+'/eddytrack/ssh/'+fq+'/'\n",
    "tracker_dir=eddydir+'tracks/'\n",
    "\n",
    "# eddy_type='cyclonic'\n",
    "eddy_type='anticyclonic'\n",
    "\n",
    "#dscorres = xr.open_dataset(tracker_dir+expid+'_'+eddy_type+'_'+fq+'_correspondance.nc')\n",
    "dstracks = xr.open_dataset(tracker_dir+eddy_type+'_tracks.nc')\n",
    "#dsshort = xr.open_dataset(tracker_dir+eddy_type+'_short.nc')\n",
    "#dsuntrack = xr.open_dataset(tracker_dir+eddy_type+'_untracked.nc')\n",
    "\n",
    "wavelength=700\n",
    "dlon=2.5\n",
    "dlat=2.5\n",
    "res=0.25\n",
    "npts=int(dlon/res) #number of points from centre\n"
   ]
  },
  {
   "cell_type": "code",
   "execution_count": 8,
   "id": "a9cd8d35-6213-432e-8fc7-6598e5d0b523",
   "metadata": {
    "tags": []
   },
   "outputs": [
    {
     "name": "stdout",
     "output_type": "stream",
     "text": [
      "Track IDs= [    4    29   125   127   133   171   176   179   219   263   280   286\n",
      "   351   407   419   432   461   471   525   575   582   589   756   771\n",
      "   793   811   828   870   976  1007  1024  1070  1104  1152  1161  1191\n",
      "  1200  1212  1251  1314  1319  1321  1391  1392  1465  1520  1534  1535\n",
      "  1725  1741  1752  1909  1913  1923  1935  2072  2101  2102  2113  2122\n",
      "  2131  2134  2146  2231  2234  2277  2300  2328  2412  2443  2467  2563\n",
      "  2567  2652  2717  2743  2863  2889  2944  2979  3020  3035  3135  3294\n",
      "  3296  3297  3317  3337  3356  3421  3438  3472  3501  3521  3537  3621\n",
      "  3666  3714  3730  3827  3854  3904  3933  3978  4007  4098  4153  4170\n",
      "  4194  4202  4239  4323  4399  4404  4481  4504  4536  4621  4669  4670\n",
      "  4692  4715  4785  4793  4802  4809  4836  4857  4898  4905  5088  5136\n",
      "  5205  5208  5211  5250  5354  5421  5461  5463  5503  5557  5687  5708\n",
      "  5713  5734  5760  6026  6049  6078  6148  6304  6311  6367  6422  6431\n",
      "  6432  6476  6563  6630  6642  6776  6794  6844  6849  6907  6951  6959\n",
      "  6960  7010  7039  7105  7120  7121  7180  7220  7267  7327  7343  7359\n",
      "  7412  7436  7449  7467  7510  7567  7610  7649  7700  7729  7801  7806\n",
      "  7843  7844  7877  7888  7889  7989  8000  8081  8109  8206  8230  8250\n",
      "  8326  8411  8513  8557  8571  8617  8706  8716  8723  8793  8873  8924\n",
      "  8993  8996  8998  9052  9093  9141  9156  9166  9195  9209  9249  9314\n",
      "  9353  9375  9393  9440  9483  9567  9573  9593  9669  9692  9752  9844\n",
      "  9848  9857  9858  9861  9865  9924  9931  9956 10097 10125 10143 10235\n",
      " 10260 10289 10291 10312 10330 10400 10418 10456 10460 10480 10483 10579\n",
      " 10594 10620]\n",
      "No. of obs for each tracked ID = [ 14  17  12  17  19  10  12  38  14  10  32  14 127  16  20  14  18  12\n",
      "  38  24  15  17  19  19  25  14  17  10  18  20  20  13  19  30 132  15\n",
      "  29  66  11  19  26  11  11  25  12 154  17  13  33  37  15  70  40  42\n",
      " 101  27  21  13  10  25  26  14  11 227  21  14  16  13  19  12  27 192\n",
      "  35  12  12  59  24  11  12  11 155  16  15  11  36  17  22  15  29  11\n",
      "  20  33  14  65  15  39  18  11  14  18  72  10  13  18  18  30  41  13\n",
      "  11  22  16  37  58  59  18  10  11  42  35  24  76  77 152  51  39  14\n",
      "  15  13  44  38 203  17  22  21  32  56  17  17  21  11  19  29  16  75\n",
      " 186  52  52  17  11  48  11  28 569  12  22  15  63  38  22  51  25  12\n",
      "  36  60  20  19  19  11  19  10  15  48  10  11  12  10  32  13  10  15\n",
      "  16  12  12  18  27  18  20  96  32  36  26  18  20  14  34  42  56  42\n",
      "  68  49  15  12  13  48  31  17  17  23  29  14  23  21  21  72 123 191\n",
      "  19  18  14  10  10  14  19  14  13  31  12  85  10  12 271  20  24  53\n",
      "  35  53  11  18  16  20  54  15  18  22  34  37  19  89  25  56  26  10\n",
      "  12  16  12  14  20  11  76  63  40  12  20  11  28  18]\n",
      "Track IDs that last more than 60 days= [  351  1161  1212  1520  1909  1935  2231  2563  3020  3521  3854  4692\n",
      "  4715  4785  5088  5708  5713  6311  6432  6844  7649  8000  8793  8873\n",
      "  8924  9314  9393  9956 10418 10456]\n",
      "No. of obs for each tracked ID = [127 132  66 154  70 101 227 192 155  65  72  76  77 152 203  75 186 569\n",
      "  63  60  96  68  72 123 191  85 271  89  76  63]\n"
     ]
    }
   ],
   "source": [
    "#Get desired region [Agulhas leakage in this case]\n",
    "ARidx = np.argwhere((dstracks.latitude.values<=-30) & (dstracks.latitude.values>=-45) &\n",
    "                     (dstracks.longitude.values>0) & (dstracks.longitude.values<25))\n",
    "\n",
    "#Get track IDs for Agulhas rings, remove all duplicates\n",
    "ARtrackid=np.array(sorted(list(set(dstracks.track.values[ARidx].squeeze()))))\n",
    "print('Track IDs=',ARtrackid)\n",
    "\n",
    "#Get number of obs for each track for Agulhas rings\n",
    "trackIDs=dstracks.track.values\n",
    "tracklen=[]\n",
    "for ii in range(trackIDs.max()+1):\n",
    "    tracklen.append(len(np.argwhere(trackIDs == ii)))\n",
    "lentrack=np.array(tracklen)[ARtrackid]\n",
    "print('No. of obs for each tracked ID =',lentrack)\n",
    "\n",
    "#Remove tracks with less than 60 days\n",
    "newARtrackid=np.delete(ARtrackid,np.r_[np.argwhere(lentrack<60)])\n",
    "print('Track IDs that last more than 60 days=',newARtrackid)\n",
    "lentrack=np.array(tracklen)[newARtrackid]\n",
    "print('No. of obs for each tracked ID =',lentrack)\n",
    "del(tracklen)\n"
   ]
  },
  {
   "cell_type": "code",
   "execution_count": 9,
   "id": "24bca14f-7a3f-4d93-a261-4e9ca1796465",
   "metadata": {
    "tags": []
   },
   "outputs": [],
   "source": [
    "def geteddy_alongtrack(dmvarfile,varname,loncen,latcen,dlon=2.5,dlat=2.5):\n",
    "    dsvar=xr.open_dataset(dmvarfile)\n",
    "    if varname=='rho':\n",
    "        FIELD=dsvar['rhopoto']\n",
    "    else:\n",
    "        FIELD=dsvar[varname]\n",
    "    lonmin=loncen-dlon\n",
    "    lonmax=loncen+dlon\n",
    "    latmin=latcen-dlat\n",
    "    latmax=latcen+dlat\n",
    "    if (lonmin < 0) & (lonmax < 0):\n",
    "        FIELDcomp=FIELD.sel(lon=slice(lonmin+360,lonmax+360),lat=slice(latmin,latmax))\n",
    "    elif (lonmin < 0) & (lonmax >= 0):\n",
    "        FIELDcomp=xr.concat([FIELD.sel(lon=slice(lonmin+360,360),lat=slice(latmin,latmax)),FIELD.sel(lon=slice(0,lonmax),lat=slice(latmin,latmax))],dim='lon')\n",
    "    elif (lonmax > 360):\n",
    "        FIELDcomp=xr.concat([FIELD.sel(lon=slice(lonmin,360),lat=slice(latmin,latmax)),FIELD.sel(lon=slice(0,lonmax-360),lat=slice(latmin,latmax))],dim='lon')\n",
    "    else:\n",
    "        FIELDcomp=FIELD.sel(lon=slice(lonmin,lonmax),lat=slice(latmin,latmax))\n",
    "    return FIELDcomp\n",
    "\n",
    "\n",
    "#Note that this extract eddy tracks but does not normalise to eddy radius\n",
    "def extract_eddytrack_raw(dstracks,tridx,varname='ssh',expid='erc1011',fq='dm',wavelength=700,dlon=2.5,dlat=2.5,res=0.25):\n",
    "    npts=int(dlon/res)\n",
    "    alongtrackidx=np.argwhere(dstracks.track.values==tridx)\n",
    "    Reff=dstracks.effective_radius.values[alongtrackidx] #in metres\n",
    "    loncen=dstracks.longitude.values[alongtrackidx]\n",
    "    latcen=dstracks.latitude.values[alongtrackidx]\n",
    "    timearr=dstracks.time.values[alongtrackidx].flatten()\n",
    "    date_arr=[]\n",
    "    FIELDcomp=[]\n",
    "    for tt in range(len(timearr)):\n",
    "        date_arr.append(datetime.strptime(str(timearr[tt])[:10], '%Y-%m-%d'))\n",
    "        date=date_arr[tt]\n",
    "        # print('Extracting for '+date.strftime('%Y%m%d'))\n",
    "        #Get high pass filtered classified data\n",
    "        outdir='reg25/'+expid+'/eddytrack/'\n",
    "        if varname=='rho' or varname=='to':\n",
    "            dmvarfile=outdir+varname+'/sm'+str(int(wavelength))+'km/'+expid+'_'+varname+'_1_'+fq+'_'+date.strftime('%Y%m%d')+'_IFS25_hp'+str(wavelength)+'.nc'\n",
    "        else:\n",
    "            dmvarfile=outdir+varname+'/sm'+str(int(wavelength))+'km/'+expid+'_'+varname+'_'+fq+'_'+date.strftime('%Y%m%d')+'_IFS25_hp'+str(wavelength)+'.nc'\n",
    "        FIELDcomp.append(geteddy_alongtrack(dmvarfile,varname,loncen[tt][0],latcen[tt][0],dlon=dlon,dlat=dlat))\n",
    "        del(dmvarfile)\n",
    "\n",
    "    for ii in range(len(FIELDcomp)):\n",
    "        FIELDcomp[ii]=FIELDcomp[ii].assign_coords(lat=np.arange(-npts,npts)*res,lon=np.arange(-npts,npts)*res)\n",
    "    \n",
    "    return alongtrackidx, date_arr, FIELDcomp, FIELDcomp[0].attrs\n",
    "\n",
    "#Note it is not normalized to eddy radius\n",
    "def appendto_eddycomp_dataset(dsSSH,varname,FIELDcomp,date_arr,npts,res,FIELDattrs):\n",
    "    dsSSH=dsSSH.merge(xr.DataArray(data=np.array(FIELDcomp).squeeze(),\n",
    "                 coords={'time':date_arr, 'y':np.arange(-npts,npts)*res, 'x':np.arange(-npts,npts)*res},\n",
    "                 dims=['time','y','x'],name=varname,attrs=FIELDattrs))\n",
    "    return dsSSH\n",
    "\n"
   ]
  },
  {
   "cell_type": "code",
   "execution_count": null,
   "id": "859b5326-b685-4e15-af11-8ba18b1e74dd",
   "metadata": {},
   "outputs": [],
   "source": [
    "for tridx in newARtrackid:\n",
    "    print('Extracting for eddy track ',tridx)\n",
    "    #Extract tracked eddies\n",
    "    alongtrackidx, date_arr, FIELDcomp, FIELDattrs = extract_eddytrack_raw(dstracks,tridx,varname=varname,wavelength=wavelength,dlon=dlon,dlat=dlat,res=res)\n",
    "    \n",
    "    #Load composite SSH dataset\n",
    "    fileout=tracker_dir+expid+'_'+eddy_type+'_'+str(dlon)+'x'+str(dlat)+'deg_trackID_'+str(tridx)+'.nc'\n",
    "    tempout=tracker_dir+expid+'_'+eddy_type+'_'+str(dlon)+'x'+str(dlat)+'deg_trackID_'+str(tridx)+'_temp.nc'\n",
    "    dsSSH=xr.open_dataset(fileout)\n",
    "    #Append and save dataset\n",
    "    dsnew=appendto_eddycomp_dataset(dsSSH,varname,FIELDcomp,date_arr,npts,res,FIELDattrs)\n",
    "    dsnew.to_netcdf(tempout)\n",
    "    shutil.move(tempout,fileout)\n"
   ]
  }
 ],
 "metadata": {
  "kernelspec": {
   "display_name": "eddy_py3.10",
   "language": "python",
   "name": "eddy_py3.10"
  },
  "language_info": {
   "codemirror_mode": {
    "name": "ipython",
    "version": 3
   },
   "file_extension": ".py",
   "mimetype": "text/x-python",
   "name": "python",
   "nbconvert_exporter": "python",
   "pygments_lexer": "ipython3",
   "version": "3.10.11"
  }
 },
 "nbformat": 4,
 "nbformat_minor": 5
}
