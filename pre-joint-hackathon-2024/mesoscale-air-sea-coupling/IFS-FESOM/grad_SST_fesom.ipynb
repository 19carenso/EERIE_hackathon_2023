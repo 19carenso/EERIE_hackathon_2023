{
 "cells": [
  {
   "cell_type": "code",
   "execution_count": 1,
   "id": "e95fe27b-c8d9-41d9-8de3-34a7969f9017",
   "metadata": {
    "tags": []
   },
   "outputs": [],
   "source": [
    "### Formulated by Rohit Ghosh ###\n",
    "import pyfesom2 as pf\n",
    "import xarray as xr\n",
    "import numpy as np"
   ]
  },
  {
   "cell_type": "code",
   "execution_count": 2,
   "id": "b3730412-ebff-4315-9f80-a4df860cee02",
   "metadata": {
    "tags": []
   },
   "outputs": [],
   "source": [
    "mesh_path='/work/ab0995/a270088/meshes/NG5/'\n",
    "diag = xr.open_dataset((mesh_path+'fesom.mesh.diag.nc')) \n",
    "ddx = diag['gradient_sca_x']\n",
    "ddy = diag['gradient_sca_y']\n",
    "elem = (diag['elements']-1).T  "
   ]
  },
  {
   "cell_type": "code",
   "execution_count": null,
   "id": "4368e090-36ac-468e-9fef-a974edd5a3ac",
   "metadata": {
    "tags": []
   },
   "outputs": [
    {
     "name": "stdout",
     "output_type": "stream",
     "text": [
      "/work/ab0995/a270088/meshes/NG5/pickle_mesh_py3_fesom2\n",
      "The usepickle == True)\n",
      "The pickle file for FESOM2 exists.\n",
      "The mesh will be loaded from /work/ab0995/a270088/meshes/NG5/pickle_mesh_py3_fesom2\n"
     ]
    }
   ],
   "source": [
    "%%time\n",
    "\n",
    "# Define the years and months\n",
    "years = ['1971']  # Example list of years\n",
    "months = ['01', '02', '03', '04', '05', '06', '07', '08', '09', '10', '11', '12']  # List of months\n",
    "\n",
    "# Loop over years and months\n",
    "for year in years:\n",
    "    for mon in months:\n",
    "        data_path='/work/bm1344/a270228/EERIE_NextG_Hackathon/IFS-FESOM_CONTROL-1950/tco1279-NG5/{year}/FESOM/native/daily/'\n",
    "\n",
    "        # Use string formatting to replace {year} in the data_path\n",
    "        data_path = data_path.format(year=year)\n",
    "\n",
    "        sst = xr.open_mfdataset((data_path+f'fesom_sst_{year}{mon}*-{year}{mon}*_daily-NG5.nc'),chunks={'time':40,'nod2':200})['sst'].astype('float32')\n",
    "        time= xr.open_mfdataset((data_path+f'fesom_sst_{year}{mon}*-{year}{mon}*_daily-NG5.nc'),chunks={'time':40,'nod2':200})['time'].astype('float32')\n",
    "\n",
    "        n= time.size\n",
    "\n",
    "        mesh= pf.load_mesh(mesh_path)\n",
    "\n",
    "       # Initialize empty lists to store results for each time step\n",
    "        dt_dx_list = []\n",
    "        dt_dy_list = []\n",
    "\n",
    "        for dd in range(n):  # Looping over 0 to 30 for the time dimension\n",
    "            t = sst[dd, :].compute()\n",
    "\n",
    "    \n",
    "            dt_dy = (ddy * t[elem]).sum(dim='n3')\n",
    "            dt_dx = (ddx * t[elem]).sum(dim='n3') \n",
    "    \n",
    "\n",
    "            ## Divergence at Node ##\n",
    "            dt_dy = pf.tonodes(dt_dy, mesh)\n",
    "            dt_dx = pf.tonodes(dt_dx, mesh)\n",
    "    \n",
    "            ## Changing dt_dy and dt_dx to Xarray object ##\n",
    "            dt_dx = xr.DataArray(dt_dx, coords=t.coords, dims=t.dims)\n",
    "            dt_dy = xr.DataArray(dt_dy, coords=t.coords, dims=t.dims)\n",
    "    \n",
    "            # Append div and curl to lists\n",
    "            dt_dx_list.append(dt_dx)\n",
    "            dt_dy_list.append(dt_dy)\n",
    "\n",
    "            # Combine the lists into Xarray DataArrays along the time dimension\n",
    "            dsst_dx = xr.concat(dt_dx_list, dim='time')\n",
    "            dsst_dy = xr.concat(dt_dy_list, dim='time')\n",
    "\n",
    "            # Add variable attributes\n",
    "            dsst_dx.attrs['long_name'] = 'Gradient of Sea Surface Temperature in the x-direction'\n",
    "            dsst_dx.attrs['units'] = 'degree Celsius per meter'\n",
    "\n",
    "            # Create a Dataset containing the DataArray\n",
    "            dsx = xr.Dataset({'dsst_dx': dsst_dx})\n",
    "\n",
    "            dsx.to_netcdf(f\"/work/bm1344/a270228/gradient/fesom_dSSTdX_{year}{mon}_daily-NG5.nc\")\n",
    "\n",
    "            # Add variable attributes\n",
    "            dsst_dy.attrs['long_name'] = 'Gradient of Sea Surface Temperature in the y-direction'\n",
    "            dsst_dy.attrs['units'] = 'degree Celsius per meter'\n",
    "\n",
    "            # Create a Dataset containing the DataArray\n",
    "            dsy = xr.Dataset({'dsst_dy': dsst_dy})\n",
    "\n",
    "            dsy.to_netcdf(f\"/work/bm1344/a270228/gradient/fesom_dSSTdY_{year}{mon}_daily-NG5.nc\")\n",
    "\n"
   ]
  },
  {
   "cell_type": "code",
   "execution_count": null,
   "id": "29d7d336-50b1-4fdc-89b9-d20b08fd75ec",
   "metadata": {},
   "outputs": [],
   "source": []
  }
 ],
 "metadata": {
  "kernelspec": {
   "display_name": "1 Python 3 (based on the module python3/2023.01)",
   "language": "python",
   "name": "python3_2023_01"
  },
  "language_info": {
   "codemirror_mode": {
    "name": "ipython",
    "version": 3
   },
   "file_extension": ".py",
   "mimetype": "text/x-python",
   "name": "python",
   "nbconvert_exporter": "python",
   "pygments_lexer": "ipython3",
   "version": "3.10.10"
  }
 },
 "nbformat": 4,
 "nbformat_minor": 5
}
