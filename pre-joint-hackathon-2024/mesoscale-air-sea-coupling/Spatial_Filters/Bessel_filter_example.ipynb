{
 "cells": [
  {
   "cell_type": "markdown",
   "id": "120161de-53f3-43ac-b107-657712a87d8f",
   "metadata": {
    "tags": []
   },
   "source": [
    "## Bessel filter from py-eddy-tracker program\n",
    "- Use a fixed 700km spatial filter (wavelength)\n",
    "- Usage of xarray within py-eddy-tracker made possible by Aaron Wienkers, and consequently the use of dask. Much of this example is taken from https://github.com/eerie-project/EERIE_hackathon_2023/tree/main/RESULTS/pyeddytracker_xarray_dask_parallel\n",
    "- Intake catalog of EERIE data done by Fabian Wachsmann\n",
    "\n",
    "Feb 2024, Aaron Wienkers (ETHZ) and Dian Putrasahan (MPIM)"
   ]
  },
  {
   "cell_type": "code",
   "execution_count": 2,
   "id": "bf9511d4-6fee-4c74-8542-6a41f6869053",
   "metadata": {
    "tags": []
   },
   "outputs": [],
   "source": [
    "import xarray as xr\n",
    "import numpy as np\n",
    "from scipy.interpolate import CloughTocher2DInterpolator, LinearNDInterpolator, NearestNDInterpolator\n",
    "import glob\n",
    "import intake\n",
    "import intake_xarray\n",
    "import dask\n",
    "import pandas as pd\n",
    "dask.config.set({\"array.slicing.split_large_chunks\": True}) \n",
    "\n",
    "from py_eddy_tracker.dataset.grid import RegularGridDataset\n",
    "from datetime import datetime, timedelta\n",
    "from netCDF4 import Dataset\n",
    "\n",
    "import io\n",
    "import os,sys\n",
    "\n",
    "import warnings\n",
    "warnings.filterwarnings(\"ignore\")"
   ]
  },
  {
   "cell_type": "code",
   "execution_count": 3,
   "id": "2d080d5c-89bf-4125-a3e7-84909c9194ae",
   "metadata": {
    "tags": []
   },
   "outputs": [],
   "source": [
    "## Start Parallel Client\n",
    "from concurrent.futures import ProcessPoolExecutor\n",
    "from concurrent.futures import ThreadPoolExecutor\n",
    "# Note: Could also use Dask Distributed Client\n",
    "n_cpu = 64"
   ]
  },
  {
   "cell_type": "code",
   "execution_count": 4,
   "id": "07ae27b7-ca4a-41b1-b449-55040ee31aa6",
   "metadata": {
    "tags": []
   },
   "outputs": [
    {
     "name": "stdout",
     "output_type": "stream",
     "text": [
      "['daily', 'monthly']\n"
     ]
    }
   ],
   "source": [
    "cat = intake.open_catalog(\"https://raw.githubusercontent.com/eerie-project/intake_catalogues/main/eerie.yaml\")\n",
    "model = 'ifs-fesom2-sr'\n",
    "expid = 'eerie-control-1950'\n",
    "gridspec = 'gr025'\n",
    "cat_regrid = cat['dkrz.disk.model-output'][model][expid]['ocean'][gridspec]\n",
    "print(list(cat_regrid))"
   ]
  },
  {
   "cell_type": "code",
   "execution_count": 5,
   "id": "f7c274bc-a676-42ee-a17a-445bd37513db",
   "metadata": {
    "tags": []
   },
   "outputs": [],
   "source": [
    "ds = cat_regrid['daily'].to_dask()"
   ]
  },
  {
   "cell_type": "code",
   "execution_count": 6,
   "id": "e198f187-83e4-4a2f-9815-0eea56f2b330",
   "metadata": {
    "tags": []
   },
   "outputs": [],
   "source": [
    "ds_subset = ds.sel(time=slice('1950-01-01','1950-12-31'))\n",
    "# ds_subset = ds\n",
    "datearr = np.array([pd.Timestamp(t).to_pydatetime() for t in ds_subset.time.values])\n"
   ]
  },
  {
   "cell_type": "code",
   "execution_count": 7,
   "id": "a4eb728c-dd65-4657-8594-55e65ba2e5b5",
   "metadata": {
    "tags": []
   },
   "outputs": [
    {
     "name": "stdout",
     "output_type": "stream",
     "text": [
      "High pass filter daily sst for year=1950-1950\n"
     ]
    }
   ],
   "source": [
    "varname='sst'\n",
    "print('High pass filter daily '+varname+' for year='+str(datearr[0].year)+'-'+str(datearr[-1].year))\n",
    "wavelength=700\n",
    "\n",
    "scratch = '/scratch/m/m300466/'\n",
    "datadir = scratch+expid+'/'+gridspec+'/'\n",
    "\n",
    "if not os.path.exists(datadir+'/'+model):\n",
    "    os.makedirs(datadir+'/'+model)\n",
    "\n",
    "vardir=datadir+model+'/'+varname\n",
    "filtdir=vardir+'/Bessel'\n",
    "smdatadir=filtdir+'/sm'+str(int(wavelength))+'km/'\n",
    "if not os.path.exists(vardir):\n",
    "        os.makedirs(vardir)\n",
    "if not os.path.exists(filtdir):\n",
    "        os.makedirs(filtdir)\n",
    "if not os.path.exists(smdatadir):\n",
    "        os.makedirs(smdatadir)"
   ]
  },
  {
   "cell_type": "code",
   "execution_count": 8,
   "id": "c801c159-bb39-45fc-a1dd-b115ac308690",
   "metadata": {
    "tags": []
   },
   "outputs": [],
   "source": [
    "def besselhighpass(ncfile, varname, smdatadir, wavelength, date):\n",
    "    g = RegularGridDataset(None, \"lon\", \"lat\", centered=True, nc4file=ncfile)\n",
    "    if varname=='rho':\n",
    "        g.bessel_high_filter('rhopoto', wavelength, order=1)\n",
    "    else:\n",
    "        g.bessel_high_filter(varname, wavelength, order=1) #perfroms only on 1 time index\n",
    "    \n",
    "    if varname=='to' or varname=='so' or varname=='rho':\n",
    "        zidx=1\n",
    "        g.write(smdatadir+'/'+varname+'_'+str(zidx)+'_'+date.strftime('%Y%m%d')+'_hp'+str(wavelength)+'.nc')\n",
    "    else:\n",
    "        g.write(smdatadir+'/'+varname+'_'+date.strftime('%Y%m%d')+'_hp'+str(int(wavelength))+'.nc')\n",
    "        \n",
    "        \n",
    "# Parallel function wrapper to the for-loop \n",
    "def delayed_filter_and_save(date,tt):\n",
    "    \n",
    "    # Load data from xarray into netcdf4 type\n",
    "    da_ssh = ds_subset[varname].isel(time=tt)\n",
    "    da_ssh.time.encoding.pop(\"_FillValue\",None)\n",
    "    da_netcdf = Dataset('in-mem-file', mode='r', memory=da_ssh.to_netcdf())\n",
    "    \n",
    "    #print('High pass filter of '+varname+' for '+date.strftime('%Y%m%d'))\n",
    "    besselhighpass(da_netcdf,varname,smdatadir,wavelength,date)\n",
    "    \n",
    "    "
   ]
  },
  {
   "cell_type": "code",
   "execution_count": 9,
   "id": "e72fc52b-53f7-4035-a508-9490c2fe335d",
   "metadata": {
    "tags": []
   },
   "outputs": [],
   "source": [
    "# Filter & Make all Composites in parallel\n",
    "#   For some (presumably memory-related reason) this works better with ThreadPool than ProcessPool...\n",
    "with ThreadPoolExecutor(max_workers=n_cpu) as executor:\n",
    "    results = list(executor.map(delayed_filter_and_save, datearr, range(len(datearr))))\n",
    "\n",
    "    "
   ]
  },
  {
   "cell_type": "code",
   "execution_count": null,
   "id": "66dfa2e4-138a-42e6-8548-48817d79f7ec",
   "metadata": {},
   "outputs": [],
   "source": []
  },
  {
   "cell_type": "code",
   "execution_count": null,
   "id": "17d695ce-289f-4f5f-8f76-50d62c53ef37",
   "metadata": {},
   "outputs": [],
   "source": []
  }
 ],
 "metadata": {
  "kernelspec": {
   "display_name": "eddyenv_dap_v1",
   "language": "python",
   "name": "eddyenv_dap_v1"
  },
  "language_info": {
   "codemirror_mode": {
    "name": "ipython",
    "version": 3
   },
   "file_extension": ".py",
   "mimetype": "text/x-python",
   "name": "python",
   "nbconvert_exporter": "python",
   "pygments_lexer": "ipython3",
   "version": "3.10.13"
  }
 },
 "nbformat": 4,
 "nbformat_minor": 5
}
